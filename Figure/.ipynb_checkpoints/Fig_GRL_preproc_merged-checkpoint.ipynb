{
 "cells": [
  {
   "cell_type": "code",
   "execution_count": null,
   "id": "236e1ff3",
   "metadata": {},
   "outputs": [],
   "source": [
    "#Figure 3 - October 2023\n",
    "#Preprocessing of Chl-a inputs into monthly median\n",
    "import xarray as xr\n",
    "import numpy as np\n",
    "import matplotlib.pyplot as plt\n",
    "from matplotlib import colors\n",
    "import pandas as pd\n",
    "import glob\n",
    "import dask\n",
    "\n",
    "from statsmodels.tsa.seasonal import seasonal_decompose\n",
    "import statsmodels\n",
    "import statsmodels.api as sm\n",
    "\n",
    "import cmocean\n",
    "import colorcet as cc\n",
    "import cartopy\n",
    "import cartopy.crs as ccrs\n",
    "import cartopy.feature as cfeature\n",
    "from cartopy.mpl.ticker import LongitudeFormatter, LatitudeFormatter\n",
    "from cartopy.mpl.gridliner import LONGITUDE_FORMATTER, LATITUDE_FORMATTER\n",
    "cartopy.config[\"data_dir\"] = './cartopy_shapefiles'"
   ]
  },
  {
   "cell_type": "code",
   "execution_count": null,
   "id": "401472ec",
   "metadata": {},
   "outputs": [],
   "source": [
    "#VIIRS for median\n",
    "ds_input = xr.open_mfdataset('/home/datawork-lops-oh/biogeo/AI/CNN_CHLORO/INPUT/Input_obs9_*.nc')\n",
    "ds_input = ds_input.transpose('time', 'latitude', 'longitude')\n",
    "a = ds_input.mask.where(ds_input.mask==6)\n",
    "mask = np.isnan(a)\n",
    "mask = ~mask   \n",
    "ds_input = ds_input.assign(variables={\"mask\": (('latitude','longitude'), mask.data)}) \n",
    "\n",
    "ds_out = xr.open_mfdataset('/home2/datawork/epauthen/Globcolour_coarse/VIR*.nc')\n",
    "ds_out = ds_out.rename({'CHL1_coarse':'chloro'})\n",
    "ds_out = ds_out.sel(latitude = slice(-50,50))\n",
    "ds_out = ds_out.assign(variables={\"mask\": (('latitude','longitude'), ds_input.mask.data)}) \n",
    "y_test = ds_out.where(ds_out.mask == 1).load()\n",
    "#\n",
    "# Compute weighted median by timestep\n",
    "weights = np.cos(np.deg2rad(y_test.latitude))\n",
    "weights.name = \"weights\"\n",
    "y_testw = y_test.chloro.weighted(weights)\n",
    "chloro_qua = y_testw.quantile(dim = (\"longitude\", \"latitude\"),q=0.5)\n",
    "VIR = y_test.assign(variables={\"chloro_qua\": (('time'), chloro_qua.data)}) \n",
    "VIR"
   ]
  },
  {
   "cell_type": "code",
   "execution_count": null,
   "id": "65ea77c6",
   "metadata": {},
   "outputs": [],
   "source": [
    "#CCI\n",
    "ds_out = xr.open_mfdataset('/home2/datawork/epauthen/Ocean-Colour-CCI/OC_CCI_Coarse/OC_CCI_chloro_a_*.nc')\n",
    "ds_out = ds_out.rename({'chlor_a_coarse':'chloro'})\n",
    "ds_out = ds_out.sel(latitude = slice(-50,50))\n",
    "ds_out = ds_out.assign(variables={\"mask\": (('latitude','longitude'), ds_input.mask.data)}) \n",
    "y_test = ds_out.where(ds_out.mask == 1).load()\n",
    "#\n",
    "# Compute weighted median by timestep\n",
    "weights = np.cos(np.deg2rad(y_test.latitude))\n",
    "weights.name = \"weights\"\n",
    "y_testw = y_test.chloro.weighted(weights)\n",
    "chloro_qua = y_testw.quantile(dim = (\"longitude\", \"latitude\"),q=0.5)\n",
    "CCI = y_test.assign(variables={\"chloro_qua\": (('time'), chloro_qua.data)}) "
   ]
  },
  {
   "cell_type": "code",
   "execution_count": null,
   "id": "9db395ba",
   "metadata": {
    "tags": []
   },
   "outputs": [],
   "source": [
    "#GSM\n",
    "data_input = '/home2/datawork/epauthen/Globcolour_coarse/'\n",
    "with dask.config.set(**{'array.slicing.split_large_chunks': False}):\n",
    "    MODVIR    = xr.open_mfdataset(data_input + \"MODVIR_*.nc\")\n",
    "    MERMOD    = xr.open_mfdataset(data_input + \"MERMOD_*.nc\")\n",
    "    MERMODVIR = xr.open_mfdataset(data_input + \"MERMODVIR_*.nc\")\n",
    "    MERMODSWF = xr.open_mfdataset(data_input + \"MERMODSWF_*.nc\")\n",
    "    SWF    = xr.open_mfdataset(data_input + \"SWF_*.nc\")\n",
    "    SWF    = SWF.sel(time = slice('1997-09','2002-06'))\n",
    "    ds_gsm = MODVIR.merge(MERMOD)\n",
    "    ds_gsm = ds_gsm.merge(MERMODSWF)\n",
    "    ds_gsm = ds_gsm.merge(SWF)\n",
    "    ds_out = ds_gsm.merge(MERMODVIR)\n",
    "    ds_out = ds_out.rename({'CHL1_coarse': 'chloro'})\n",
    "    ds_out = ds_out.sel(latitude = slice(-50,50))\n",
    "    ds_out = ds_out.assign(variables={\"mask\": (('latitude','longitude'), ds_input.mask.data)}) \n",
    "    y_test = ds_out.where(ds_out.mask == 1).load()\n",
    "#\n",
    "# Compute weighted median by timestep\n",
    "weights = np.cos(np.deg2rad(y_test.latitude))\n",
    "weights.name = \"weights\"\n",
    "y_testw = y_test.chloro.weighted(weights)\n",
    "chloro_qua = y_testw.quantile(dim = (\"longitude\", \"latitude\"),q=0.5)\n",
    "GSM = y_test.assign(variables={\"chloro_qua\": (('time'), chloro_qua.data)}) \n"
   ]
  },
  {
   "cell_type": "code",
   "execution_count": null,
   "id": "312c45af",
   "metadata": {
    "tags": []
   },
   "outputs": [],
   "source": [
    "#Globcolour CMEMS for median\n",
    "data_output = \"/home/datawork-lops-oh/biogeo/AI/CNN_CHLORO/Globcolour_cmems_coarse/\"\n",
    "with dask.config.set(**{'array.slicing.split_large_chunks': False}):\n",
    "    ds_out = xr.open_mfdataset(data_output + \"Globcolour_CMEMS_chl_*.nc\")\n",
    "ds_out = ds_out.rename({'chl':'chloro'})\n",
    "ds_out = ds_out.sel(latitude = slice(-50,50))\n",
    "ds_out = ds_out.assign(variables={\"mask\": (('latitude','longitude'), ds_input.mask.data)}) \n",
    "y_test = ds_out.where(ds_out.mask == 1)\n",
    "\n",
    "# Compute weighted median by timestep\n",
    "weights = np.cos(np.deg2rad(y_test.latitude))\n",
    "weights.name = \"weights\"\n",
    "y_testw = y_test.chloro.weighted(weights)\n",
    "chloro_qua = y_testw.quantile(dim = (\"longitude\", \"latitude\"),q=0.5)\n",
    "GCMEMS = y_test.assign(variables={\"chloro_qua\": (('time'), chloro_qua.data)}) \n"
   ]
  },
  {
   "cell_type": "code",
   "execution_count": null,
   "id": "b039664e",
   "metadata": {
    "tags": []
   },
   "outputs": [],
   "source": [
    "#YU\n",
    "data_output = \"/home/datawork-lops-oh/biogeo/AI/CNN_CHLORO/Chloro_Yu_2023_coarse/\"\n",
    "with dask.config.set(**{'array.slicing.split_large_chunks': False}):\n",
    "    ds_out = xr.open_mfdataset(data_output + \"Yu_chloro_*.nc\")\n",
    "ds_out = ds_out.rename({'chl':'chloro'})\n",
    "ds_out = ds_out.sel(latitude = slice(-50,50))\n",
    "ds_out = ds_out.assign(variables={\"mask\": (('latitude','longitude'), ds_input.mask.data)}) \n",
    "y_test = ds_out.where(ds_out.mask == 1)\n",
    "\n",
    "# Compute weighted median by timestep\n",
    "weights = np.cos(np.deg2rad(y_test.latitude))\n",
    "weights.name = \"weights\"\n",
    "y_testw = y_test.chloro.weighted(weights)\n",
    "chloro_qua = y_testw.quantile(dim = (\"longitude\", \"latitude\"),q=0.5)\n",
    "YU = y_test.assign(variables={\"chloro_qua\": (('time'), chloro_qua.data)}) "
   ]
  },
  {
   "cell_type": "code",
   "execution_count": null,
   "id": "75fe7cc5",
   "metadata": {
    "tags": []
   },
   "outputs": [],
   "source": [
    "#Multiobs\n",
    "data_output = '/home/datawork-lops-oh/biogeo/AI/CNN_CHLORO/MULTIOBS_GLO_BIO_BGC_3D_REP_015_010/Surface/'\n",
    "with dask.config.set(**{'array.slicing.split_large_chunks': False}):\n",
    "    ds_out = xr.open_mfdataset(data_output + \"CMEMS_chl_*.nc\")\n",
    "ds_out = ds_out.resample(time=\"1M\").mean()\n",
    "ds_out = ds_out.rename({'chl':'chloro'})\n",
    "ds_out = ds_out.sel(latitude = slice(-50,50))\n",
    "ds_bathy = xr.open_dataset('/home2/datawork/epauthen/ETOPO1_Ice_g_gmt4.grd', engine='netcdf4')\n",
    "res = ds_bathy.z.interp(x=ds_out.longitude, y=ds_out.latitude,method = 'linear')\n",
    "ds_out = ds_out.assign(variables={\"bathymetry\": (('latitude','longitude'), res.data)})\n",
    "ds_out = ds_out.where(ds_out.bathymetry < -200)\n",
    "y_test = ds_out.drop(['bathymetry'])\n",
    "\n",
    "# Compute weighted median by timestep\n",
    "weights = np.cos(np.deg2rad(y_test.latitude))\n",
    "weights.name = \"weights\"\n",
    "y_testw = y_test.chloro.weighted(weights)\n",
    "chloro_qua = y_testw.quantile(dim = (\"longitude\", \"latitude\"),q=0.5)\n",
    "MCMEMS = y_test.assign(variables={\"chloro_qua\": (('time'), chloro_qua.data)}) "
   ]
  },
  {
   "cell_type": "code",
   "execution_count": null,
   "id": "d8e9cd57",
   "metadata": {
    "tags": []
   },
   "outputs": [],
   "source": [
    "#AVW\n",
    "data_input = '/home2/datawork/epauthen/Globcolour_AVW_coarse/'\n",
    "with dask.config.set(**{'array.slicing.split_large_chunks': False}):\n",
    "    MODVIR    = xr.open_mfdataset(data_input + \"MODVIR_*.nc\")\n",
    "    MERMOD    = xr.open_mfdataset(data_input + \"MERMOD_*.nc\")\n",
    "    MERMODVIR = xr.open_mfdataset(data_input + \"MERMODVIR_*.nc\")\n",
    "    MERMODSWF = xr.open_mfdataset(data_input + \"MERMODSWF_*.nc\")\n",
    "    SWF    = xr.open_mfdataset(data_input + \"SWF_*.nc\")\n",
    "    SWF    = SWF.sel(time = slice('1997-09','2002-06'))\n",
    "    ds_gsm = MODVIR.merge(MERMOD)\n",
    "    ds_gsm = ds_gsm.merge(MERMODSWF)\n",
    "    ds_gsm = ds_gsm.merge(SWF)\n",
    "    ds_out = ds_gsm.merge(MERMODVIR)\n",
    "    ds_out = ds_out.rename({'CHL1_coarse': 'chloro'})\n",
    "    ds_out = ds_out.sel(latitude = slice(-50,50))\n",
    "    ds_out = ds_out.assign(variables={\"mask\": (('latitude','longitude'), ds_input.mask.data)}) \n",
    "    y_test = ds_out.where(ds_out.mask == 1).load()\n",
    "\n",
    "# Compute weighted median by timestep\n",
    "weights = np.cos(np.deg2rad(y_test.latitude))\n",
    "weights.name = \"weights\"\n",
    "y_testw = y_test.chloro.weighted(weights)\n",
    "chloro_qua = y_testw.quantile(dim = (\"longitude\", \"latitude\"),q=0.5)\n",
    "AVW = y_test.assign(variables={\"chloro_qua\": (('time'), chloro_qua.data)}) \n"
   ]
  },
  {
   "cell_type": "code",
   "execution_count": null,
   "id": "8a4d6f3a",
   "metadata": {
    "tags": []
   },
   "outputs": [],
   "source": [
    "path_out = '/home/datawork-lops-oh/biogeo/AI/CNN_CHLORO/Preproc_GRL/'\n",
    "VIR.chloro_qua.to_netcdf(path_out + 'VIIRS_median.nc')\n",
    "GCMEMS.chloro_qua.to_netcdf(path_out + 'GCMEMS_median.nc')\n",
    "GSM.chloro_qua.to_netcdf(path_out + 'GSM_median.nc')\n",
    "CCI.chloro_qua.to_netcdf(path_out + 'CCI_median.nc')\n",
    "YU.chloro_qua.to_netcdf(path_out + 'YU_median.nc')\n",
    "MCMEMS.chloro_qua.to_netcdf(path_out + 'MCMEMS_median.nc')\n",
    "AVW.chloro_qua.to_netcdf(path_out + 'AVW_median.nc')\n"
   ]
  },
  {
   "cell_type": "code",
   "execution_count": null,
   "id": "cab19a4f",
   "metadata": {
    "tags": []
   },
   "outputs": [],
   "source": []
  },
  {
   "cell_type": "code",
   "execution_count": null,
   "id": "c804e226",
   "metadata": {
    "tags": []
   },
   "outputs": [],
   "source": []
  },
  {
   "cell_type": "code",
   "execution_count": null,
   "id": "273f902a",
   "metadata": {
    "tags": []
   },
   "outputs": [],
   "source": []
  },
  {
   "cell_type": "code",
   "execution_count": null,
   "id": "5d458db1",
   "metadata": {
    "tags": []
   },
   "outputs": [],
   "source": []
  },
  {
   "cell_type": "code",
   "execution_count": null,
   "id": "5bc8eb0b",
   "metadata": {
    "tags": []
   },
   "outputs": [],
   "source": []
  },
  {
   "cell_type": "code",
   "execution_count": null,
   "id": "cedb1941",
   "metadata": {},
   "outputs": [],
   "source": []
  },
  {
   "cell_type": "code",
   "execution_count": null,
   "id": "3fd98669",
   "metadata": {},
   "outputs": [],
   "source": []
  },
  {
   "cell_type": "code",
   "execution_count": null,
   "id": "0c05661c",
   "metadata": {},
   "outputs": [],
   "source": []
  },
  {
   "cell_type": "code",
   "execution_count": null,
   "id": "87677e4b",
   "metadata": {},
   "outputs": [],
   "source": []
  }
 ],
 "metadata": {
  "kernelspec": {
   "display_name": "Python 3 (ipykernel)",
   "language": "python",
   "name": "python3"
  },
  "language_info": {
   "codemirror_mode": {
    "name": "ipython",
    "version": 3
   },
   "file_extension": ".py",
   "mimetype": "text/x-python",
   "name": "python",
   "nbconvert_exporter": "python",
   "pygments_lexer": "ipython3",
   "version": "3.8.8"
  }
 },
 "nbformat": 4,
 "nbformat_minor": 5
}
