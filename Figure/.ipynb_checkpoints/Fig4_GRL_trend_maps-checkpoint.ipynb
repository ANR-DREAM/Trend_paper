{
 "cells": [
  {
   "cell_type": "code",
   "execution_count": null,
   "id": "79906e54",
   "metadata": {},
   "outputs": [],
   "source": [
    "##########Figure 4 GRL - November 2023\n",
    "#Trend maps of reconstructed Schl\n",
    "import xarray as xr\n",
    "import numpy as np\n",
    "import matplotlib.pyplot as plt\n",
    "import pandas as pd\n",
    "import glob\n",
    "import esmtools\n",
    "import dask \n",
    "\n",
    "import cmocean\n",
    "import colorcet as cc\n",
    "import cartopy\n",
    "import cartopy.crs as ccrs\n",
    "import cartopy.feature as cfeature\n",
    "from cartopy.mpl.ticker import LongitudeFormatter, LatitudeFormatter\n",
    "from cartopy.mpl.gridliner import LONGITUDE_FORMATTER, LATITUDE_FORMATTER\n",
    "cartopy.config[\"data_dir\"] = './cartopy_shapefiles'"
   ]
  },
  {
   "cell_type": "code",
   "execution_count": null,
   "id": "9296c97d",
   "metadata": {},
   "outputs": [],
   "source": [
    "data_input = '/home/datawork-lops-oh/biogeo/AI/CNN_CHLORO/MULTIOBS_GLO_BIO_BGC_3D_REP_015_010/Surface/'\n",
    "with dask.config.set(**{'array.slicing.split_large_chunks': False}):\n",
    "    ds = xr.open_mfdataset(data_input + 'CMEMS_chl_*.nc')\n",
    "    ds = ds.resample(time=\"1M\").mean()"
   ]
  },
  {
   "cell_type": "code",
   "execution_count": null,
   "id": "f4959ace",
   "metadata": {},
   "outputs": [],
   "source": [
    "cm = cmocean.cm.balance\n",
    "vm = 20\n",
    "unit = '%.year$^{-1}$'\n",
    "proj=ccrs.Robinson(central_longitude = 210)\n",
    "land_feature = cfeature.NaturalEarthFeature(\n",
    "category='physical', name='land', scale='50m', facecolor=[0.9375, 0.9375, 0.859375])\n",
    "subplot_kw = {'projection': proj} "
   ]
  },
  {
   "cell_type": "code",
   "execution_count": null,
   "id": "efdb8d98",
   "metadata": {},
   "outputs": [],
   "source": [
    "namelist = ['CCI','VIR','GSM']\n",
    "letter = ['d) OC-CCI','f) VIIRS-GSM','b) Globcolour GSM']\n",
    "i = 0\n",
    "for name in namelist:\n",
    "    ds = xr.open_dataset('/home/datawork-lops-oh/biogeo/AI/CNN_CHLORO/OUTPUT/Model_GRL/'+name+'_ensemble_mean.nc')\n",
    "    d1 = '2016-01'\n",
    "    d2 = '2020-12'\n",
    "    ds = ds.sel(time = slice(d1,d2))\n",
    "\n",
    "    #trend on deseasonalised or raw\n",
    "    ds = ds.assign(variables={\"chl_log\": (('time','latitude','longitude'), np.log(ds.chloro_pred.data))})\n",
    "    ds = ds.drop(['chloro_pred']).load()\n",
    "    ds_season = ds.groupby('time.month').mean(dim='time').chl_log\n",
    "    ds_monthly = ds.groupby('time.month')\n",
    "    ds = ds.assign(variables={\"chl_deseason\": (('time','latitude','longitude'), (ds_monthly - ds_monthly.mean(dim='time')).chl_log.data)})\n",
    "    ds = ds.drop(['chl_log'])\n",
    "    ds_lr = esmtools.stats.linregress(ds, dim='time', nan_policy='omit')        \n",
    "\n",
    "    fig, ax = plt.subplots(nrows=1, ncols=1, figsize=(7,4), dpi=300, subplot_kw=subplot_kw, tight_layout=True)\n",
    "    ds_sig = ds_lr.where(ds_lr.sel(parameter='pvalue')<=0.05)\n",
    "    (ds_sig.chl_deseason.sel(parameter='slope')*1200).plot(vmin = -vm,vmax = vm,cmap = cm,transform=ccrs.PlateCarree(),ax = ax\n",
    "                                                ,cbar_kwargs=dict(label=unit),levels =11)\n",
    "    ax.set_title(letter[i] + \" reconstructed (\" + str(d1) + ' to ' + str(d2) + ')')\n",
    "    ax.grid(True)\n",
    "    ax.add_feature(land_feature) #, edgecolor='black')\n",
    "    gl = ax.gridlines(draw_labels=True, dms=True, x_inline=False, y_inline=False,linewidth=.5, color='gray', alpha=0.5, linestyle='--')\n",
    "    gl.top_labels = False\n",
    "    gl.right_labels = False\n",
    "    plt.savefig('Figure_GRL/Fig4_'+name+d1+d2+'_pred_deseason.png', bbox_inches='tight')\n",
    "    i+=1\n",
    "    print(name)"
   ]
  },
  {
   "cell_type": "code",
   "execution_count": null,
   "id": "4fd62511",
   "metadata": {},
   "outputs": [],
   "source": []
  },
  {
   "cell_type": "code",
   "execution_count": null,
   "id": "3aa3ab6d",
   "metadata": {},
   "outputs": [],
   "source": []
  },
  {
   "cell_type": "code",
   "execution_count": null,
   "id": "6fd9f7bf",
   "metadata": {},
   "outputs": [],
   "source": []
  }
 ],
 "metadata": {
  "kernelspec": {
   "display_name": "Python 3 (ipykernel)",
   "language": "python",
   "name": "python3"
  },
  "language_info": {
   "codemirror_mode": {
    "name": "ipython",
    "version": 3
   },
   "file_extension": ".py",
   "mimetype": "text/x-python",
   "name": "python",
   "nbconvert_exporter": "python",
   "pygments_lexer": "ipython3",
   "version": "3.8.8"
  }
 },
 "nbformat": 4,
 "nbformat_minor": 5
}
