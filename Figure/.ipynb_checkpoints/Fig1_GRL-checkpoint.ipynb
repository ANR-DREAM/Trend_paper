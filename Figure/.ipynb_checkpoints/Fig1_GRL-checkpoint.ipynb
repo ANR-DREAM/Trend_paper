{
 "cells": [
  {
   "cell_type": "code",
   "execution_count": null,
   "id": "886ce693",
   "metadata": {},
   "outputs": [],
   "source": [
    "#Figure 1 - trend maps of Schl - October 2023\n",
    "import xarray as xr\n",
    "import numpy as np\n",
    "import matplotlib.pyplot as plt\n",
    "from matplotlib import colors\n",
    "import glob\n",
    "\n",
    "import cmocean\n",
    "import cartopy\n",
    "import cartopy.crs as ccrs\n",
    "import cartopy.feature as cfeature\n",
    "from cartopy.mpl.ticker import LongitudeFormatter, LatitudeFormatter\n",
    "from cartopy.mpl.gridliner import LONGITUDE_FORMATTER, LATITUDE_FORMATTER\n",
    "cartopy.config[\"data_dir\"] = './cartopy_shapefiles'"
   ]
  },
  {
   "cell_type": "code",
   "execution_count": null,
   "id": "0d781d16",
   "metadata": {
    "tags": []
   },
   "outputs": [],
   "source": [
    "#Add maps\n",
    "path = '/home/datawork-lops-oh/biogeo/AI/CNN_CHLORO/trend_map/'\n",
    "d1 = '2002-07'\n",
    "d2 = '2020-12'\n",
    "period = str(d1) + '_' + str(d2)\n",
    "MULTIOBS_0 = xr.open_dataset(path + \"Trend_log_chl_\"+str(period)+\"_multiobs.nc\")\n",
    "YU_0    = xr.open_dataset(path + \"Trend_log_chl_\"+str(period)+\"_yu.nc\")\n",
    "AVW_0   = xr.open_dataset(path + \"Trend_log_chl_\"+str(period)+\"_avw.nc\")\n",
    "\n",
    "CCI_0   = xr.open_dataset(path + \"Trend_log_chl_\"+str(period)+\"_cci.nc\")\n",
    "GSM_0   = xr.open_dataset(path + \"Trend_log_chl_\"+str(period)+\"_gsm.nc\")\n",
    "G_CMEMS_0 = xr.open_dataset(path + \"Trend_log_chl_\"+str(period)+\"_globcolour_cmems.nc\")\n",
    "\n",
    "#Apply mask to all maps\n",
    "ds_input = xr.open_dataset('/home/datawork-lops-oh/biogeo/AI/CNN_CHLORO/INPUT/Input_obs9_1996.nc')\n",
    "CCI_0 = CCI_0.where(ds_input['mask'] == 6,drop = True) \n",
    "GSM_0 = GSM_0.where(ds_input['mask'] == 6,drop = True) \n",
    "G_CMEMS_0  = G_CMEMS_0.where(ds_input['mask'] == 6,drop = True) \n",
    "\n",
    "AVW_0 = AVW_0.where(ds_input['mask'] == 6,drop = True) \n",
    "YU_0  = YU_0.where(ds_input['mask'] == 6,drop = True) \n",
    "\n",
    "res = ds_input.bathymetry.interp(longitude=MULTIOBS_0.longitude, latitude=MULTIOBS_0.latitude,method = 'linear')\n",
    "MULTIOBS_0 = MULTIOBS_0.assign(variables={\"bathymetry\": (('latitude','longitude'), res.isel(time=0).data)})\n",
    "MULTIOBS_0 = MULTIOBS_0.where(MULTIOBS_0.bathymetry < -200,drop = True)"
   ]
  },
  {
   "cell_type": "code",
   "execution_count": null,
   "id": "34578174",
   "metadata": {},
   "outputs": [],
   "source": [
    "cm = cmocean.cm.balance\n",
    "unit = '%.year$^{-1}$'\n",
    "proj=ccrs.Robinson(central_longitude = 210)\n",
    "land_feature = cfeature.NaturalEarthFeature(\n",
    "category='physical', name='land', scale='50m', facecolor=[0.9375, 0.9375, 0.859375])\n",
    "subplot_kw = {'projection': proj} \n",
    "\n",
    "ds_map    = [CCI_0       ,G_CMEMS_0             ,YU_0              ,AVW_0       ,MULTIOBS_0    ,GSM_0]\n",
    "title_map = ['b) OC-CCI' ,'c) Globcolour CMEMS' ,'e) Yu et al 2023','d) Globcolour AVW'    , 'f) Multiobs CMEMS', 'a) Globcolour GSM']\n",
    "colo      = ['black'      ,'tab:red'            ,'grey'            ,'tab:green' ,'tab:orange'  ,'tab:blue']"
   ]
  },
  {
   "cell_type": "code",
   "execution_count": null,
   "id": "8b834015",
   "metadata": {
    "tags": []
   },
   "outputs": [],
   "source": [
    "#Discrete white and 5\n",
    "vm = 5\n",
    "for i in np.arange(len(title_map)):\n",
    "    ds_i = ds_map[i]\n",
    "    fig, ax = plt.subplots(nrows=1, ncols=1, figsize=(7,4), dpi=300, subplot_kw=subplot_kw)\n",
    "    ds_sig = ds_i.where(ds_i.sel(parameter='pvalue')<=0.05)\n",
    "    (ds_sig.chl_deseason.sel(parameter='slope')*1200).plot(vmin = -vm,vmax = vm,cmap = cm,transform=ccrs.PlateCarree(),ax = ax\n",
    "                                                ,cbar_kwargs=dict(label=unit),levels = 11)\n",
    "    ax.set_title(title_map[i]) # + \" (\" + str(d1) + ' to ' + str(d2) + ')')\n",
    "    ax.grid(True)\n",
    "    ax.add_feature(land_feature) #, edgecolor='black')\n",
    "    gl = ax.gridlines(draw_labels=True, dms=True, x_inline=False, y_inline=False,linewidth=.5, color='gray', alpha=0.5, linestyle='--')\n",
    "    gl.top_labels = False\n",
    "    gl.right_labels = False\n",
    "    plt.savefig('Figure_GRL/Fig1_'+str(period)+'_'+str(title_map[i])+'_deseason.png', bbox_inches='tight')"
   ]
  },
  {
   "cell_type": "code",
   "execution_count": null,
   "id": "0b420111",
   "metadata": {
    "tags": []
   },
   "outputs": [],
   "source": []
  },
  {
   "cell_type": "code",
   "execution_count": null,
   "id": "d228ad54",
   "metadata": {},
   "outputs": [],
   "source": []
  },
  {
   "cell_type": "code",
   "execution_count": null,
   "id": "346c65f0",
   "metadata": {},
   "outputs": [],
   "source": []
  },
  {
   "cell_type": "code",
   "execution_count": null,
   "id": "bb6a3702",
   "metadata": {},
   "outputs": [],
   "source": []
  }
 ],
 "metadata": {
  "kernelspec": {
   "display_name": "Python 3 (ipykernel)",
   "language": "python",
   "name": "python3"
  },
  "language_info": {
   "codemirror_mode": {
    "name": "ipython",
    "version": 3
   },
   "file_extension": ".py",
   "mimetype": "text/x-python",
   "name": "python",
   "nbconvert_exporter": "python",
   "pygments_lexer": "ipython3",
   "version": "3.8.8"
  }
 },
 "nbformat": 4,
 "nbformat_minor": 5
}
