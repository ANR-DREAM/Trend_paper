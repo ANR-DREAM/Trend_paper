{
 "cells": [
  {
   "cell_type": "code",
   "execution_count": null,
   "id": "520de2eb",
   "metadata": {},
   "outputs": [],
   "source": [
    "#Figure 4 - October 2023\n",
    "# Trend maps of Schl for VIIRS CCI and GSM\n",
    "import xarray as xr\n",
    "import numpy as np\n",
    "import matplotlib.pyplot as plt\n",
    "from matplotlib import colors\n",
    "import pandas as pd\n",
    "import glob\n",
    "import dask\n",
    "\n",
    "from statsmodels.tsa.seasonal import seasonal_decompose\n",
    "import statsmodels\n",
    "import statsmodels.api as sm\n",
    "import esmtools\n",
    "\n",
    "import cmocean\n",
    "import colorcet as cc\n",
    "import cartopy\n",
    "import cartopy.crs as ccrs\n",
    "import cartopy.feature as cfeature\n",
    "from cartopy.mpl.ticker import LongitudeFormatter, LatitudeFormatter\n",
    "from cartopy.mpl.gridliner import LONGITUDE_FORMATTER, LATITUDE_FORMATTER\n",
    "cartopy.config[\"data_dir\"] = './cartopy_shapefiles'"
   ]
  },
  {
   "cell_type": "code",
   "execution_count": null,
   "id": "dd09f6ce",
   "metadata": {},
   "outputs": [],
   "source": [
    "data_input = '/home/datawork-lops-oh/biogeo/AI/CNN_CHLORO/MULTIOBS_GLO_BIO_BGC_3D_REP_015_010/Surface/'\n",
    "with dask.config.set(**{'array.slicing.split_large_chunks': False}):\n",
    "    ds = xr.open_mfdataset(data_input + 'CMEMS_chl_*.nc')\n",
    "    ds = ds.resample(time=\"1M\").mean()\n"
   ]
  },
  {
   "cell_type": "code",
   "execution_count": null,
   "id": "93fdf4f8",
   "metadata": {},
   "outputs": [],
   "source": [
    "#Compute the trend for VIIRS observation\n",
    "ds_input = xr.open_mfdataset('/home/datawork-lops-oh/biogeo/AI/CNN_CHLORO/INPUT/Input_obs9_*.nc')\n",
    "sensor = 'VIR'\n",
    "ds = xr.open_mfdataset('/home2/datawork/epauthen/Globcolour_coarse/' + sensor + '*.nc')\n",
    "ds = ds.rename({'CHL1_coarse':'chloro'})\n",
    "d1 = '2012-01'\n",
    "d2 = '2020-12'\n",
    "ds = ds.sel(time = slice(d1,d2),latitude = slice(-50,50))\n",
    "ds = ds.assign(variables={\"mask\": (('latitude','longitude'), ds_input.mask.data)}) \n",
    "ds = ds.where(ds.mask == 6)\n",
    "#trend on deseasonalised or raw\n",
    "ds = ds.assign(variables={\"chl_log\": (('time','latitude','longitude'), np.log(ds.chloro.data))})"
   ]
  },
  {
   "cell_type": "code",
   "execution_count": null,
   "id": "017a6916",
   "metadata": {},
   "outputs": [],
   "source": [
    "ds = ds.drop(['chloro','mask']).load()\n",
    "ds_season = ds.groupby('time.month').mean(dim='time').chl_log\n",
    "ds_monthly = ds.groupby('time.month')\n",
    "ds = ds.assign(variables={\"chl_deseason\": (('time','latitude','longitude'), (ds_monthly - ds_monthly.mean(dim='time')).chl_log.data)})\n",
    "ds = ds.drop(['chl_log'])\n",
    "ds_lr = esmtools.stats.linregress(ds, dim='time', nan_policy='omit') "
   ]
  },
  {
   "cell_type": "code",
   "execution_count": null,
   "id": "5a7ad41b",
   "metadata": {},
   "outputs": [],
   "source": [
    "ds_lr.to_netcdf('/home/datawork-lops-oh/biogeo/AI/CNN_CHLORO/trend_map/' + \n",
    "                \"Trend_log_chl_\"+ str(d1)  + \"_\" + str(d2) + \"_\" +  str(sensor) +\".nc\")"
   ]
  },
  {
   "cell_type": "code",
   "execution_count": null,
   "id": "6ff98a0f",
   "metadata": {
    "tags": []
   },
   "outputs": [],
   "source": [
    "cm = cmocean.cm.balance\n",
    "vm = 20\n",
    "unit = '%.year$^{-1}$'\n",
    "proj=ccrs.Robinson(central_longitude = 210)\n",
    "land_feature = cfeature.NaturalEarthFeature(\n",
    "category='physical', name='land', scale='50m', facecolor=[0.9375, 0.9375, 0.859375])\n",
    "subplot_kw = {'projection': proj} \n",
    "\n",
    "fig, ax = plt.subplots(nrows=1, ncols=1, figsize=(7,4), dpi=300, subplot_kw=subplot_kw, tight_layout=True)\n",
    "ds_sig = ds_lr.where(ds_lr.sel(parameter='pvalue')<=0.05)\n",
    "(ds_sig.chl_deseason.sel(parameter='slope')*1200).plot(cmap = cm,transform=ccrs.PlateCarree(),ax = ax,vmin = -vm,vmax = vm\n",
    "                                            ,cbar_kwargs=dict(label=unit),levels =11)\n",
    "ax.set_title(\"e) VIIRS-GSM (\" + str(d1) + ' to ' + str(d2) + ')')\n",
    "ax.grid(True)\n",
    "ax.add_feature(land_feature) #, edgecolor='black')\n",
    "gl = ax.gridlines(draw_labels=True, dms=True, x_inline=False, y_inline=False,linewidth=.5, color='gray', alpha=0.5, linestyle='--')\n",
    "gl.top_labels = False\n",
    "gl.right_labels = False\n",
    "plt.savefig('Figure_GRL/Fig4_'+str(period)+'_VIIRS_deseason.png', bbox_inches='tight')\n"
   ]
  },
  {
   "cell_type": "code",
   "execution_count": null,
   "id": "17e168b1",
   "metadata": {
    "tags": []
   },
   "outputs": [],
   "source": [
    "#Add maps\n",
    "path = '/home/datawork-lops-oh/biogeo/AI/CNN_CHLORO/trend_map/'\n",
    "d1 = '2016-01'\n",
    "d2 = '2020-12'\n",
    "period = str(d1) + '_' + str(d2)\n",
    "\n",
    "CCI_0   = xr.open_dataset(path + \"Trend_log_chl_\"+str(period)+\"_cci.nc\")\n",
    "GSM_0   = xr.open_dataset(path + \"Trend_log_chl_\"+str(period)+\"_gsm.nc\")\n",
    "\n",
    "#Apply mask to all maps\n",
    "ds_input = xr.open_dataset('/home/datawork-lops-oh/biogeo/AI/CNN_CHLORO/INPUT/Input_obs9_1996.nc')\n",
    "CCI_0 = CCI_0.where(ds_input['mask'] == 6,drop = True) \n",
    "GSM_0 = GSM_0.where(ds_input['mask'] == 6,drop = True) \n"
   ]
  },
  {
   "cell_type": "code",
   "execution_count": null,
   "id": "e3c8b502",
   "metadata": {},
   "outputs": [],
   "source": [
    "cm = cmocean.cm.balance\n",
    "unit = '%.year$^{-1}$'\n",
    "proj=ccrs.Robinson(central_longitude = 210)\n",
    "land_feature = cfeature.NaturalEarthFeature(\n",
    "category='physical', name='land', scale='50m', facecolor=[0.9375, 0.9375, 0.859375])\n",
    "subplot_kw = {'projection': proj} \n",
    "\n",
    "ds_map    = [CCI_0       , GSM_0 ]\n",
    "title_map = ['c) OC-CCI' , 'a) Globcolour GSM']\n",
    "w         = [1200       ,1200                 ]"
   ]
  },
  {
   "cell_type": "code",
   "execution_count": null,
   "id": "997e0bdd",
   "metadata": {
    "tags": []
   },
   "outputs": [],
   "source": [
    "%%time\n",
    "#Discrete white and 10\n",
    "vm = 20\n",
    "for i in np.arange(len(title_map)):\n",
    "    ds_i = ds_map[i]\n",
    "    fig, ax = plt.subplots(nrows=1, ncols=1, figsize=(7,4), dpi=300, subplot_kw=subplot_kw\n",
    "                           , tight_layout=True)\n",
    "    ds_sig = ds_i.where(ds_i.sel(parameter='pvalue')<=0.05)\n",
    "    (ds_sig.chl_deseason.sel(parameter='slope')*1200).plot(vmin = -vm,vmax = vm,cmap = cm,transform=ccrs.PlateCarree(),ax = ax\n",
    "                                                ,cbar_kwargs=dict(label=unit),levels = 11)\n",
    "    ax.set_title(title_map[i] + \" (\" + str(d1) + ' to ' + str(d2) + ')')\n",
    "    ax.grid(True)\n",
    "    ax.add_feature(land_feature) #, edgecolor='black')\n",
    "    gl = ax.gridlines(draw_labels=True, dms=True, x_inline=False, y_inline=False,linewidth=.5, color='gray', alpha=0.5, linestyle='--')\n",
    "    gl.top_labels = False\n",
    "    gl.right_labels = False\n",
    "    plt.savefig('Figure_GRL/Fig4_'+str(period)+'_'+str(title_map[i])+'_deseason.png', bbox_inches='tight')"
   ]
  },
  {
   "cell_type": "code",
   "execution_count": null,
   "id": "6e0cdfd2",
   "metadata": {
    "tags": []
   },
   "outputs": [],
   "source": []
  },
  {
   "cell_type": "code",
   "execution_count": null,
   "id": "49bf8f14",
   "metadata": {},
   "outputs": [],
   "source": []
  },
  {
   "cell_type": "code",
   "execution_count": null,
   "id": "dcd22d2f",
   "metadata": {},
   "outputs": [],
   "source": []
  },
  {
   "cell_type": "code",
   "execution_count": null,
   "id": "8c1d90ab",
   "metadata": {},
   "outputs": [],
   "source": []
  }
 ],
 "metadata": {
  "kernelspec": {
   "display_name": "Python 3 (ipykernel)",
   "language": "python",
   "name": "python3"
  },
  "language_info": {
   "codemirror_mode": {
    "name": "ipython",
    "version": 3
   },
   "file_extension": ".py",
   "mimetype": "text/x-python",
   "name": "python",
   "nbconvert_exporter": "python",
   "pygments_lexer": "ipython3",
   "version": "3.8.8"
  }
 },
 "nbformat": 4,
 "nbformat_minor": 5
}
