{
 "cells": [
  {
   "cell_type": "code",
   "execution_count": 1,
   "id": "b9a23035",
   "metadata": {},
   "outputs": [],
   "source": [
    "##########Figure 4 GRL - November 2023\n",
    "#Ensemble mean of Schl reconstructed\n",
    "import xarray as xr\n",
    "import numpy as np\n",
    "import matplotlib.pyplot as plt\n",
    "from matplotlib import colors\n",
    "import pandas as pd\n",
    "import glob\n",
    "\n",
    "from statsmodels.tsa.seasonal import seasonal_decompose\n",
    "import statsmodels\n",
    "import statsmodels.api as sm\n",
    "import esmtools\n",
    "\n",
    "import cmocean\n",
    "import colorcet as cc\n",
    "import cartopy\n",
    "import cartopy.crs as ccrs\n",
    "import cartopy.feature as cfeature\n",
    "from cartopy.mpl.ticker import LongitudeFormatter, LatitudeFormatter\n",
    "from cartopy.mpl.gridliner import LONGITUDE_FORMATTER, LATITUDE_FORMATTER\n",
    "cartopy.config[\"data_dir\"] = './cartopy_shapefiles'"
   ]
  },
  {
   "cell_type": "code",
   "execution_count": 2,
   "id": "521718ac",
   "metadata": {},
   "outputs": [
    {
     "name": "stdout",
     "output_type": "stream",
     "text": [
      "CPU times: user 1min 4s, sys: 5.72 s, total: 1min 10s\n",
      "Wall time: 3min 31s\n"
     ]
    }
   ],
   "source": [
    "%%time\n",
    "#Load 10 model and store in dataset\n",
    "log = \"/home/datawork-lops-oh/biogeo/AI/CNN_CHLORO/OUTPUT/Model_GRL/*/GSMstrat*/Chloro_pred/\"\n",
    "log_list = glob.glob(log)\n",
    "i = 0\n",
    "ds = xr.open_mfdataset(log_list[i] + \"*.nc\")\n",
    "ensemble = ds\n",
    "for i in np.arange(1,len(log_list)):\n",
    "    ds = xr.open_mfdataset(log_list[i] + \"*.nc\")\n",
    "    ensemble = xr.concat([ensemble,ds], dim=\"model\")\n",
    "ensemble = ensemble.assign_coords({\"model\": np.arange(len(log_list))})"
   ]
  },
  {
   "cell_type": "code",
   "execution_count": 3,
   "id": "c3f93871",
   "metadata": {},
   "outputs": [
    {
     "name": "stderr",
     "output_type": "stream",
     "text": [
      "/home2/datahome/epauthen/conda-env/EP_kernel/lib/python3.8/site-packages/dask/array/numpy_compat.py:40: RuntimeWarning: invalid value encountered in true_divide\n",
      "  x = np.divide(x1, x2, out)\n"
     ]
    }
   ],
   "source": [
    "Em = ensemble.mean(dim = \"model\")\n",
    "Em.to_netcdf('/home/datawork-lops-oh/biogeo/AI/CNN_CHLORO/OUTPUT/Model_GRL/GSM_ensemble_mean.nc')"
   ]
  },
  {
   "cell_type": "code",
   "execution_count": 4,
   "id": "a0fab1d5",
   "metadata": {},
   "outputs": [
    {
     "name": "stderr",
     "output_type": "stream",
     "text": [
      "/home2/datahome/epauthen/conda-env/EP_kernel/lib/python3.8/site-packages/dask/array/numpy_compat.py:40: RuntimeWarning: invalid value encountered in true_divide\n",
      "  x = np.divide(x1, x2, out)\n"
     ]
    }
   ],
   "source": [
    "Estd = ensemble.std(dim = \"model\")\n",
    "Estd.to_netcdf('/home/datawork-lops-oh/biogeo/AI/CNN_CHLORO/OUTPUT/Model_GRL/GSM_ensemble_std.nc')"
   ]
  },
  {
   "cell_type": "code",
   "execution_count": null,
   "id": "3c914e52",
   "metadata": {},
   "outputs": [],
   "source": []
  },
  {
   "cell_type": "code",
   "execution_count": null,
   "id": "3b41c055",
   "metadata": {},
   "outputs": [],
   "source": []
  },
  {
   "cell_type": "code",
   "execution_count": null,
   "id": "7998c66f",
   "metadata": {},
   "outputs": [],
   "source": []
  },
  {
   "cell_type": "code",
   "execution_count": null,
   "id": "a45bf470",
   "metadata": {},
   "outputs": [],
   "source": []
  }
 ],
 "metadata": {
  "kernelspec": {
   "display_name": "Python 3 (ipykernel)",
   "language": "python",
   "name": "python3"
  },
  "language_info": {
   "codemirror_mode": {
    "name": "ipython",
    "version": 3
   },
   "file_extension": ".py",
   "mimetype": "text/x-python",
   "name": "python",
   "nbconvert_exporter": "python",
   "pygments_lexer": "ipython3",
   "version": "3.8.8"
  }
 },
 "nbformat": 4,
 "nbformat_minor": 5
}
