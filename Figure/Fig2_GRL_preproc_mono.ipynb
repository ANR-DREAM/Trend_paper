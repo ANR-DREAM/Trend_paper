{
 "cells": [
  {
   "cell_type": "code",
   "execution_count": null,
   "metadata": {},
   "outputs": [],
   "source": [
    "#####Compute weighted spatial median for Globcolour products - November 2023\n",
    "import xarray as xr\n",
    "import numpy as np\n",
    "import matplotlib.pyplot as plt\n",
    "from matplotlib import colors\n",
    "import pandas as pd\n",
    "import glob \n",
    "\n",
    "from statsmodels.tsa.seasonal import seasonal_decompose\n",
    "import statsmodels\n",
    "\n",
    "import cmocean\n",
    "import colorcet as cc\n",
    "import cartopy\n",
    "import cartopy.crs as ccrs\n",
    "import cartopy.feature as cfeature\n",
    "from cartopy.mpl.ticker import LongitudeFormatter, LatitudeFormatter\n",
    "from cartopy.mpl.gridliner import LONGITUDE_FORMATTER, LATITUDE_FORMATTER\n",
    "cartopy.config[\"data_dir\"] = '../cartopy_shapefiles'\n",
    "\n",
    "ds_input = xr.open_mfdataset('/home/datawork-lops-oh/biogeo/AI/CNN_CHLORO/INPUT/Input_obs9_*.nc')\n",
    "ds_input = ds_input.transpose('time', 'latitude', 'longitude')\n",
    "a = ds_input.mask.where(ds_input.mask==6)\n",
    "mask = np.isnan(a)\n",
    "mask = ~mask   \n",
    "ds_input = ds_input.assign(variables={\"mask\": (('latitude','longitude'), mask.data)}) \n"
   ]
  },
  {
   "cell_type": "code",
   "execution_count": null,
   "metadata": {},
   "outputs": [],
   "source": [
    "#Compute weighted spatial median and save in a file \n",
    "path_out = '/home/datawork-lops-oh/biogeo/AI/CNN_CHLORO/Preproc_GRL/'\n",
    "sensor = [\"VIR\",\"MODVIR\",\"OLA\",\"MOD\",\"MER\",\"MERMOD\",\"SWF\",\"MERMODSWF\"]\n",
    "#sensor = [\"MOD\"]\n",
    "for s in sensor:\n",
    "    ds_out = xr.open_mfdataset(\"/home2/datawork/epauthen/Globcolour_coarse/\"+ s + \"_*.nc\")\n",
    "    ds_out = ds_out.rename({'CHL1_coarse':'chloro'})\n",
    "    ds_out = ds_out.sel(latitude = slice(-50,50))\n",
    "    ds_out = ds_out.assign(variables={\"mask\": (('latitude','longitude'), ds_input.mask.data)}) \n",
    "    y_test = ds_out.where(ds_out.mask == 1).load()\n",
    "    #\n",
    "    # Compute weighted median by timestep\n",
    "    weights = np.cos(np.deg2rad(y_test.latitude))\n",
    "    weights.name = \"weights\"\n",
    "    y_testw = y_test.chloro.weighted(weights)\n",
    "    chloro_qua = y_testw.quantile(dim = (\"longitude\", \"latitude\"),q=0.5)\n",
    "    y_test = y_test.assign(variables={\"chloro_qua\": (('time'), chloro_qua.data)}) \n",
    "    y_test.chloro_qua.to_netcdf(path_out + str(s) +'_median.nc')\n",
    "    print('sensor ' + s + ' finished')"
   ]
  },
  {
   "cell_type": "code",
   "execution_count": null,
   "metadata": {},
   "outputs": [],
   "source": [
    "#Verification\n",
    "ds = xr.open_mfdataset(path_out + str(s) +'_median.nc')\n",
    "ds.chloro_qua.plot()"
   ]
  },
  {
   "cell_type": "code",
   "execution_count": null,
   "metadata": {},
   "outputs": [],
   "source": []
  },
  {
   "cell_type": "code",
   "execution_count": null,
   "metadata": {},
   "outputs": [],
   "source": []
  },
  {
   "cell_type": "code",
   "execution_count": null,
   "metadata": {},
   "outputs": [],
   "source": []
  },
  {
   "cell_type": "code",
   "execution_count": null,
   "metadata": {},
   "outputs": [],
   "source": []
  },
  {
   "cell_type": "code",
   "execution_count": null,
   "metadata": {},
   "outputs": [],
   "source": []
  },
  {
   "cell_type": "code",
   "execution_count": null,
   "metadata": {},
   "outputs": [],
   "source": []
  }
 ],
 "metadata": {
  "kernelspec": {
   "display_name": "Python 3 (ipykernel)",
   "language": "python",
   "name": "python3"
  },
  "language_info": {
   "codemirror_mode": {
    "name": "ipython",
    "version": 3
   },
   "file_extension": ".py",
   "mimetype": "text/x-python",
   "name": "python",
   "nbconvert_exporter": "python",
   "pygments_lexer": "ipython3",
   "version": "3.8.8"
  }
 },
 "nbformat": 4,
 "nbformat_minor": 4
}
