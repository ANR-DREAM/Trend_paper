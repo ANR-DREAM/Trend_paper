{
 "cells": [
  {
   "cell_type": "code",
   "execution_count": 2,
   "id": "51c27e54",
   "metadata": {},
   "outputs": [],
   "source": [
    "#Make a figure with the R2 and slope values - November 2023\n",
    "import numpy as np\n",
    "import xarray as xr\n",
    "import pandas as pd\n",
    "import glob\n",
    "import matplotlib.pyplot as plt"
   ]
  },
  {
   "cell_type": "code",
   "execution_count": 16,
   "id": "a43db3f5",
   "metadata": {},
   "outputs": [],
   "source": [
    "log = \"/home/datawork-lops-oh/biogeo/AI/CNN_CHLORO/OUTPUT/Model_GRL/*/CCIstrat*/Metrics.csv\"\n",
    "CCI_list = glob.glob(log)\n",
    "CCI_metric = np.zeros([10,4])\n",
    "\n",
    "log = \"/home/datawork-lops-oh/biogeo/AI/CNN_CHLORO/OUTPUT/Model_GRL/*/GCMEMSstrat*/Metrics.csv\"\n",
    "GCMEMS_list = glob.glob(log)\n",
    "GCMEMS_metric = np.zeros([10,4])\n",
    "\n",
    "log = \"/home/datawork-lops-oh/biogeo/AI/CNN_CHLORO/OUTPUT/Model_GRL/*/GSMstrat*/Metrics.csv\"\n",
    "GSM_list = glob.glob(log)\n",
    "GSM_metric = np.zeros([10,4])"
   ]
  },
  {
   "cell_type": "code",
   "execution_count": 35,
   "id": "204adc09",
   "metadata": {},
   "outputs": [
    {
     "data": {
      "image/png": "[encoded data removed]",
      "text/plain": [
       "<Figure size 432x288 with 1 Axes>"
      ]
     },
     "metadata": {
      "needs_background": "light"
     },
     "output_type": "display_data"
    }
   ],
   "source": [
    "x = np.arange(4)\n",
    "for i in np.arange(10):\n",
    "    df = pd.read_csv(CCI_list[i])\n",
    "    CCI_metric[i,:] = df.to_numpy()[:,1]\n",
    "    plt.scatter(x, df.to_numpy()[:,1],color = 'k',label=('' if i==0 else '_') + 'OC-CCI')\n",
    "\n",
    "    df = pd.read_csv(GCMEMS_list[i])\n",
    "    GCMEMS_metric[i,:] = df.to_numpy()[:,1]\n",
    "    plt.scatter(x, df.to_numpy()[:,1],color = 'tab:red',label=('' if i==0 else '_') + 'Globcolour CMEMS')\n",
    "\n",
    "    df = pd.read_csv(GSM_list[i])\n",
    "    GSM_metric[i,:] = df.to_numpy()[:,1]\n",
    "    plt.scatter(x, df.to_numpy()[:,1],color = 'tab:blue',label=('' if i==0 else '_') + 'Globcolour GSM')\n",
    "\n",
    "plt.scatter(x,CCI_metric.mean(axis = 0),color = 'k',marker = '_',s = 200)\n",
    "plt.scatter(x,GSM_metric.mean(axis = 0),color = 'tab:blue',marker = '_',s = 200)\n",
    "plt.scatter(x,GCMEMS_metric.mean(axis = 0),color = 'tab:red',marker = '_',s = 200)\n",
    "\n",
    "plt.legend()\n",
    "plt.title(\"Test (2011-01 to 2020-12)\")\n",
    "plt.xticks(ticks = [0,1,2,3],labels = df['Unnamed: 0'])\n",
    "plt.grid()\n",
    "#ADD MEAN"
   ]
  },
  {
   "cell_type": "code",
   "execution_count": 34,
   "id": "076f3cd1",
   "metadata": {},
   "outputs": [
    {
     "data": {
      "text/html": [
       "<div>\n",
       "<style scoped>\n",
       "    .dataframe tbody tr th:only-of-type {\n",
       "        vertical-align: middle;\n",
       "    }\n",
       "\n",
       "    .dataframe tbody tr th {\n",
       "        vertical-align: top;\n",
       "    }\n",
       "\n",
       "    .dataframe thead th {\n",
       "        text-align: right;\n",
       "    }\n",
       "</style>\n",
       "<table border=\"1\" class=\"dataframe\">\n",
       "  <thead>\n",
       "    <tr style=\"text-align: right;\">\n",
       "      <th></th>\n",
       "      <th>Unnamed: 0</th>\n",
       "      <th>Test (2011-01 to 2020-12)</th>\n",
       "    </tr>\n",
       "  </thead>\n",
       "  <tbody>\n",
       "    <tr>\n",
       "      <th>0</th>\n",
       "      <td>R$^{2}$</td>\n",
       "      <td>0.74</td>\n",
       "    </tr>\n",
       "    <tr>\n",
       "      <th>1</th>\n",
       "      <td>RMSE</td>\n",
       "      <td>0.44</td>\n",
       "    </tr>\n",
       "    <tr>\n",
       "      <th>2</th>\n",
       "      <td>MAE</td>\n",
       "      <td>0.33</td>\n",
       "    </tr>\n",
       "    <tr>\n",
       "      <th>3</th>\n",
       "      <td>Regression Slope</td>\n",
       "      <td>0.74</td>\n",
       "    </tr>\n",
       "  </tbody>\n",
       "</table>\n",
       "</div>"
      ],
      "text/plain": [
       "         Unnamed: 0  Test (2011-01 to 2020-12)\n",
       "0           R$^{2}$                       0.74\n",
       "1              RMSE                       0.44\n",
       "2               MAE                       0.33\n",
       "3  Regression Slope                       0.74"
      ]
     },
     "execution_count": 34,
     "metadata": {},
     "output_type": "execute_result"
    }
   ],
   "source": [
    "df"
   ]
  },
  {
   "cell_type": "code",
   "execution_count": 15,
   "id": "d445a87b",
   "metadata": {},
   "outputs": [],
   "source": []
  },
  {
   "cell_type": "code",
   "execution_count": 12,
   "id": "c2ac7fbb",
   "metadata": {},
   "outputs": [],
   "source": []
  },
  {
   "cell_type": "code",
   "execution_count": 13,
   "id": "d3de0df8",
   "metadata": {},
   "outputs": [
    {
     "data": {
      "text/plain": [
       "array([[0., 0., 0., 0.],\n",
       "       [0., 0., 0., 0.],\n",
       "       [0., 0., 0., 0.],\n",
       "       [0., 0., 0., 0.],\n",
       "       [0., 0., 0., 0.],\n",
       "       [0., 0., 0., 0.],\n",
       "       [0., 0., 0., 0.],\n",
       "       [0., 0., 0., 0.],\n",
       "       [0., 0., 0., 0.],\n",
       "       [0., 0., 0., 0.]])"
      ]
     },
     "execution_count": 13,
     "metadata": {},
     "output_type": "execute_result"
    }
   ],
   "source": [
    "CCI_metric"
   ]
  },
  {
   "cell_type": "code",
   "execution_count": null,
   "id": "a019a62e",
   "metadata": {},
   "outputs": [],
   "source": []
  }
 ],
 "metadata": {
  "kernelspec": {
   "display_name": "Python 3 (ipykernel)",
   "language": "python",
   "name": "python3"
  },
  "language_info": {
   "codemirror_mode": {
    "name": "ipython",
    "version": 3
   },
   "file_extension": ".py",
   "mimetype": "text/x-python",
   "name": "python",
   "nbconvert_exporter": "python",
   "pygments_lexer": "ipython3",
   "version": "3.9.18"
  }
 },
 "nbformat": 4,
 "nbformat_minor": 5
}
